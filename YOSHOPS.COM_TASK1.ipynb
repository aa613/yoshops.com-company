{
 "cells": [
  {
   "cell_type": "code",
   "execution_count": 2,
   "id": "b12f4627",
   "metadata": {},
   "outputs": [],
   "source": [
    "import requests \n",
    "from bs4 import BeautifulSoup\n",
    "import pandas as pd"
   ]
  },
  {
   "cell_type": "code",
   "execution_count": 3,
   "id": "c558c7ce",
   "metadata": {},
   "outputs": [
    {
     "name": "stdout",
     "output_type": "stream",
     "text": [
      "enter the link for extract data : https://yoshops.com/t/mobile-phones\n"
     ]
    },
    {
     "data": {
      "text/html": [
       "<div>\n",
       "<style scoped>\n",
       "    .dataframe tbody tr th:only-of-type {\n",
       "        vertical-align: middle;\n",
       "    }\n",
       "\n",
       "    .dataframe tbody tr th {\n",
       "        vertical-align: top;\n",
       "    }\n",
       "\n",
       "    .dataframe thead th {\n",
       "        text-align: right;\n",
       "    }\n",
       "</style>\n",
       "<table border=\"1\" class=\"dataframe\">\n",
       "  <thead>\n",
       "    <tr style=\"text-align: right;\">\n",
       "      <th></th>\n",
       "      <th>product_name</th>\n",
       "      <th>category</th>\n",
       "    </tr>\n",
       "  </thead>\n",
       "  <tbody>\n",
       "    <tr>\n",
       "      <th>0</th>\n",
       "      <td>Reliance Jio Phone</td>\n",
       "      <td>Mobiles</td>\n",
       "    </tr>\n",
       "    <tr>\n",
       "      <th>1</th>\n",
       "      <td>Boat Rockerz 255 Wireless Bluetooth Headset wi...</td>\n",
       "      <td>Mobiles</td>\n",
       "    </tr>\n",
       "    <tr>\n",
       "      <th>2</th>\n",
       "      <td>boAT Airdopes X3 Bass Wireless Earbuds with Ch...</td>\n",
       "      <td>Mobiles</td>\n",
       "    </tr>\n",
       "    <tr>\n",
       "      <th>3</th>\n",
       "      <td>Boat Rockerz 530 Foldable Bluetooth Headphone ...</td>\n",
       "      <td>Mobiles</td>\n",
       "    </tr>\n",
       "    <tr>\n",
       "      <th>4</th>\n",
       "      <td>Reliance Jio Phone 2</td>\n",
       "      <td>Mobiles</td>\n",
       "    </tr>\n",
       "  </tbody>\n",
       "</table>\n",
       "</div>"
      ],
      "text/plain": [
       "                                        product_name category\n",
       "0                                 Reliance Jio Phone  Mobiles\n",
       "1  Boat Rockerz 255 Wireless Bluetooth Headset wi...  Mobiles\n",
       "2  boAT Airdopes X3 Bass Wireless Earbuds with Ch...  Mobiles\n",
       "3  Boat Rockerz 530 Foldable Bluetooth Headphone ...  Mobiles\n",
       "4                               Reliance Jio Phone 2  Mobiles"
      ]
     },
     "execution_count": 3,
     "metadata": {},
     "output_type": "execute_result"
    }
   ],
   "source": [
    "def data_fetch(url):\n",
    "    \n",
    "    headers = {'User-Agent': 'Mozilla/5.0 (Macintosh; Intel Mac OS X 10_11_5) AppleWebKit/537.36 (KHTML, like Gecko) Chrome/50.0.2661.102 Safari/537.36'}\n",
    "    response = requests.get(url, headers=headers)\n",
    "    \n",
    "    content = response.text\n",
    "    \n",
    "    doc = BeautifulSoup(content, 'html.parser')\n",
    "    \n",
    "    product = doc.find_all('span',{'class':'product-title'})\n",
    "    \n",
    "    products_list = []\n",
    "    for i in product:\n",
    "        products_list.append(i.text)\n",
    "        \n",
    "        \n",
    "    category = doc.find('h1', {'class': 'category-title'} )\n",
    "\n",
    "    df = pd.DataFrame(products_list, columns=['product_name'])\n",
    "    df['category'] = category.text\n",
    "    df = pd.DataFrame(df)\n",
    "\n",
    "    df.to_csv('yoshop_data.csv', mode='a',  index=False, header=False)\n",
    "\n",
    "    return df.head()\n",
    "\n",
    "\n",
    "# provide the link to fetch the data from, link: https://yoshops.com/t/mobile-phones\n",
    "url = input('enter the link for extract data : ')\n",
    "\n",
    "# calling the fucntion\n",
    "data_fetch(url)"
   ]
  },
  {
   "cell_type": "code",
   "execution_count": null,
   "id": "031f5d41",
   "metadata": {},
   "outputs": [],
   "source": []
  }
 ],
 "metadata": {
  "kernelspec": {
   "display_name": "Python 3 (ipykernel)",
   "language": "python",
   "name": "python3"
  },
  "language_info": {
   "codemirror_mode": {
    "name": "ipython",
    "version": 3
   },
   "file_extension": ".py",
   "mimetype": "text/x-python",
   "name": "python",
   "nbconvert_exporter": "python",
   "pygments_lexer": "ipython3",
   "version": "3.8.2"
  }
 },
 "nbformat": 4,
 "nbformat_minor": 5
}
