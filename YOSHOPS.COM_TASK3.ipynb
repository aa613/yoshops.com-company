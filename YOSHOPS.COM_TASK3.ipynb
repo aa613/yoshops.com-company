{
 "cells": [
  {
   "cell_type": "code",
   "execution_count": 1,
   "id": "1413c628",
   "metadata": {},
   "outputs": [],
   "source": [
    "!pip install -U autoscraper"
   ]
  },
  {
   "cell_type": "code",
   "execution_count": 2,
   "id": "370c7ed5",
   "metadata": {},
   "outputs": [],
   "source": [
    "# importing the dependencies\n",
    "import pandas as pd\n",
    "from autoscraper import AutoScraper"
   ]
  },
  {
   "cell_type": "code",
   "execution_count": 6,
   "id": "ae12b7bd",
   "metadata": {},
   "outputs": [],
   "source": [
    "# providing the data to autoscraper object\n",
    "url =\"https://yoshops.com/products\"\n",
    "data = ['https://yoshops.com/products/reliance-jio-phone1','https://yoshops.com/products/summer-internship-gift','https://yoshops.com/products/boat-rockerz-530-foldable-bluetooth-headphone-with-mic-carbon-black']\n",
    "scrap = AutoScraper()\n",
    "result = scrap.build(url, data)\n",
    "print(result)"
   ]
  },
  {
   "cell_type": "code",
   "execution_count": 7,
   "id": "bd0601b6",
   "metadata": {},
   "outputs": [],
   "source": [
    "# fetching the data\n",
    "scrap.get_result_similar(url, grouped=True)"
   ]
  },
  {
   "cell_type": "code",
   "execution_count": 8,
   "id": "a14b7c5d",
   "metadata": {},
   "outputs": [],
   "source": [
    "scrap.set_rule_aliases({'rule_lsrg': 'product_link','rule_dhjy': 'Title' , 'rule_95i3' :\"img_link\"})\n",
    "scrap.save('yoshops_products')"
   ]
  },
  {
   "cell_type": "code",
   "execution_count": 9,
   "id": "c52596d0",
   "metadata": {},
   "outputs": [],
   "source": [
    "# getting data from different pages\n",
    "page_1=scrap.get_result_similar('https://yoshops.com/products',group_by_alias=True)\n",
    "page_2=scrap.get_result_similar('https://yoshops.com/products?page=2',group_by_alias=True)\n",
    "page_3=scrap.get_result_similar('https://yoshops.com/products?page=3',group_by_alias=True)\n",
    "page_4=scrap.get_result_similar('https://yoshops.com/products?page=4',group_by_alias=True)\n",
    "page_5=scrap.get_result_similar('https://yoshops.com/products?page=5',group_by_alias=True)\n",
    "page_6=scrap.get_result_similar('https://yoshops.com/products?page=6',group_by_alias=True)\n",
    "page_7=scrap.get_result_similar('https://yoshops.com/products?page=7',group_by_alias=True)\n",
    "page_8=scrap.get_result_similar('https://yoshops.com/products?page=8',group_by_alias=True)\n",
    "page_9=scrap.get_result_similar('https://yoshops.com/products?page=9',group_by_alias=True)\n",
    "page_10=scrap.get_result_similar('https://yoshops.com/products?page=10',group_by_alias=True)\n",
    "page_11=scrap.get_result_similar('https://yoshops.com/products?page=11',group_by_alias=True)\n",
    "page_12=scrap.get_result_similar('https://yoshops.com/products?page=12',group_by_alias=True)"
   ]
  },
  {
   "cell_type": "code",
   "execution_count": 10,
   "id": "deb70b29",
   "metadata": {},
   "outputs": [],
   "source": [
    "# creating dataframe for pages\n",
    "df1=pd.DataFrame({\"product-link\":page_1['product_link'],\n",
    "                  \"product_title\": page_1['Title'],\n",
    "                  \"product_image_link\": page_1['img_link']})\n",
    "\n",
    "\n",
    "df2=pd.DataFrame({\"product-link\":page_2['product_link'],\n",
    "                  \"product_title\": page_2['Title'],\n",
    "                  \"product_image_link\": page_2['img_link']})\n",
    "\n",
    "df3=pd.DataFrame({\"product-link\":page_3['product_link'],\n",
    "                  \"product_title\": page_3['Title'],\n",
    "                  \"product_image_link\": page_3['img_link']})\n",
    "\n",
    "df4=pd.DataFrame({\"product-link\":page_4['product_link'],\n",
    "                  \"product_title\": page_4['Title'],\n",
    "                  \"product_image_link\": page_4['img_link']})\n",
    "\n",
    "\n",
    "df5=pd.DataFrame({\"product-link\":page_5['product_link'],\n",
    "                  \"product_title\": page_5['Title'],\n",
    "                  \"product_image_link\": page_5['img_link']})\n",
    "\n",
    "df6=pd.DataFrame({\"product-link\":page_6['product_link'],\n",
    "                  \"product_title\": page_6['Title'],\n",
    "                  \"product_image_link\": page_6['img_link']})\n",
    "\n",
    "\n",
    "df7=pd.DataFrame({\"product-link\":page_7['product_link'],\n",
    "                  \"product_title\": page_7['Title'],\n",
    "                  \"product_image_link\": page_7['img_link']})\n",
    "\n",
    "\n",
    "df8=pd.DataFrame({\"product-link\":page_8['product_link'],\n",
    "                  \"product_title\": page_8['Title'],\n",
    "                  \"product_image_link\": page_8['img_link']})\n",
    "\n",
    "\n",
    "df9=pd.DataFrame({\"product-link\":page_9['product_link'],\n",
    "                  \"product_title\": page_9['Title'],\n",
    "                  \"product_image_link\": page_9['img_link']})\n",
    "\n",
    "df10=pd.DataFrame({\"product-link\":page_10['product_link'],\n",
    "                  \"product_title\": page_10['Title'],\n",
    "                  \"product_image_link\": page_10['img_link']})\n",
    "\n",
    "\n",
    "df11=pd.DataFrame({\"product-link\":page_11['product_link'],\n",
    "                  \"product_title\": page_11['Title'],\n",
    "                  \"product_image_link\": page_11['img_link']})\n",
    "\n",
    "\n",
    "df12=pd.DataFrame({\"product-link\":page_12['product_link'],\n",
    "                  \"product_title\": page_12['Title'],\n",
    "                  \"product_image_link\": page_12['img_link']})"
   ]
  },
  {
   "cell_type": "code",
   "execution_count": 11,
   "id": "6f0441eb",
   "metadata": {},
   "outputs": [],
   "source": [
    "# create one final df of all the dfs\n",
    "final_df = pd.concat([df1, df2,df3,df4,df5,df6,df7,df8,df9,df10,df11,df12], axis=0)"
   ]
  },
  {
   "cell_type": "code",
   "execution_count": 12,
   "id": "be81375c",
   "metadata": {},
   "outputs": [],
   "source": [
    "# peeking at the df\n",
    "final_df.head()"
   ]
  },
  {
   "cell_type": "code",
   "execution_count": 13,
   "id": "cbcab71e",
   "metadata": {},
   "outputs": [],
   "source": [
    "# fetching missing images links\n",
    "missing_images=final_df[final_df['product_image_link'].str.contains('//onlinestore.wsimg.com/assets/noimage/product-5fec99477aebb10bac85d82665ec1497de4536cda3279e59089555c45cf589fa.png')]\n",
    "missing_images.head()"
   ]
  },
  {
   "cell_type": "code",
   "execution_count": 14,
   "id": "f8dcfd21",
   "metadata": {},
   "outputs": [],
   "source": [
    "# checking the shape of missing_images df\n",
    "missing_images.shape"
   ]
  },
  {
   "cell_type": "code",
   "execution_count": 15,
   "id": "be788313",
   "metadata": {},
   "outputs": [],
   "source": [
    "# putting the required data into Excel\n",
    "missing_images['product_details'] = missing_images['product-link'].str.split(\"/\" , expand=True)[4]\n",
    "missing_images.to_excel('missing_images.xlsx')"
   ]
  },
  {
   "cell_type": "code",
   "execution_count": null,
   "id": "a3d8db43",
   "metadata": {},
   "outputs": [],
   "source": []
  }
 ],
 "metadata": {
  "kernelspec": {
   "display_name": "Python 3 (ipykernel)",
   "language": "python",
   "name": "python3"
  },
  "language_info": {
   "codemirror_mode": {
    "name": "ipython",
    "version": 3
   },
   "file_extension": ".py",
   "mimetype": "text/x-python",
   "name": "python",
   "nbconvert_exporter": "python",
   "pygments_lexer": "ipython3",
   "version": "3.8.2"
  }
 },
 "nbformat": 4,
 "nbformat_minor": 5
}
