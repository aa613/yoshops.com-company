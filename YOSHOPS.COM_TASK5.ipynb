{
 "cells": [
  {
   "cell_type": "code",
   "execution_count": 1,
   "id": "d268da2f",
   "metadata": {},
   "outputs": [
    {
     "data": {
      "text/html": [
       "<div>\n",
       "<style scoped>\n",
       "    .dataframe tbody tr th:only-of-type {\n",
       "        vertical-align: middle;\n",
       "    }\n",
       "\n",
       "    .dataframe tbody tr th {\n",
       "        vertical-align: top;\n",
       "    }\n",
       "\n",
       "    .dataframe thead th {\n",
       "        text-align: right;\n",
       "    }\n",
       "</style>\n",
       "<table border=\"1\" class=\"dataframe\">\n",
       "  <thead>\n",
       "    <tr style=\"text-align: right;\">\n",
       "      <th></th>\n",
       "      <th>DateTime</th>\n",
       "      <th>Max_temp</th>\n",
       "    </tr>\n",
       "  </thead>\n",
       "  <tbody>\n",
       "    <tr>\n",
       "      <th>0</th>\n",
       "      <td>01/01/1951</td>\n",
       "      <td>20.14</td>\n",
       "    </tr>\n",
       "    <tr>\n",
       "      <th>1</th>\n",
       "      <td>01/02/1951</td>\n",
       "      <td>21.68</td>\n",
       "    </tr>\n",
       "    <tr>\n",
       "      <th>2</th>\n",
       "      <td>01/03/1951</td>\n",
       "      <td>21.28</td>\n",
       "    </tr>\n",
       "    <tr>\n",
       "      <th>3</th>\n",
       "      <td>01/04/1951</td>\n",
       "      <td>21.61</td>\n",
       "    </tr>\n",
       "    <tr>\n",
       "      <th>4</th>\n",
       "      <td>01/05/1951</td>\n",
       "      <td>21.39</td>\n",
       "    </tr>\n",
       "  </tbody>\n",
       "</table>\n",
       "</div>"
      ],
      "text/plain": [
       "     DateTime  Max_temp\n",
       "0  01/01/1951     20.14\n",
       "1  01/02/1951     21.68\n",
       "2  01/03/1951     21.28\n",
       "3  01/04/1951     21.61\n",
       "4  01/05/1951     21.39"
      ]
     },
     "execution_count": 1,
     "metadata": {},
     "output_type": "execute_result"
    }
   ],
   "source": [
    "import pandas as pd\n",
    "df1 = pd.read_csv(r\"C:\\Users\\LENOVO\\Downloads\\Task 5\\Task 5\\years_data.csv\")\n",
    "df1.head()"
   ]
  },
  {
   "cell_type": "code",
   "execution_count": 2,
   "id": "40f542d5",
   "metadata": {},
   "outputs": [
    {
     "data": {
      "text/html": [
       "<div>\n",
       "<style scoped>\n",
       "    .dataframe tbody tr th:only-of-type {\n",
       "        vertical-align: middle;\n",
       "    }\n",
       "\n",
       "    .dataframe tbody tr th {\n",
       "        vertical-align: top;\n",
       "    }\n",
       "\n",
       "    .dataframe thead th {\n",
       "        text-align: right;\n",
       "    }\n",
       "</style>\n",
       "<table border=\"1\" class=\"dataframe\">\n",
       "  <thead>\n",
       "    <tr style=\"text-align: right;\">\n",
       "      <th></th>\n",
       "      <th>datetime</th>\n",
       "      <th>dummy</th>\n",
       "    </tr>\n",
       "  </thead>\n",
       "  <tbody>\n",
       "    <tr>\n",
       "      <th>0</th>\n",
       "      <td>01/01/1951</td>\n",
       "      <td>3.68</td>\n",
       "    </tr>\n",
       "    <tr>\n",
       "      <th>1</th>\n",
       "      <td>02/01/1951</td>\n",
       "      <td>3.60</td>\n",
       "    </tr>\n",
       "    <tr>\n",
       "      <th>2</th>\n",
       "      <td>03/01/1951</td>\n",
       "      <td>3.51</td>\n",
       "    </tr>\n",
       "    <tr>\n",
       "      <th>3</th>\n",
       "      <td>04/01/1951</td>\n",
       "      <td>4.09</td>\n",
       "    </tr>\n",
       "    <tr>\n",
       "      <th>4</th>\n",
       "      <td>05/01/1951</td>\n",
       "      <td>5.10</td>\n",
       "    </tr>\n",
       "  </tbody>\n",
       "</table>\n",
       "</div>"
      ],
      "text/plain": [
       "     datetime  dummy\n",
       "0  01/01/1951   3.68\n",
       "1  02/01/1951   3.60\n",
       "2  03/01/1951   3.51\n",
       "3  04/01/1951   4.09\n",
       "4  05/01/1951   5.10"
      ]
     },
     "execution_count": 2,
     "metadata": {},
     "output_type": "execute_result"
    }
   ],
   "source": [
    "df2 = pd.read_csv(r\"C:\\Users\\LENOVO\\Downloads\\Task 5\\Task 5\\tmin_data.csv\")\n",
    "df2.head()\n"
   ]
  },
  {
   "cell_type": "code",
   "execution_count": 3,
   "id": "ec519ea7",
   "metadata": {},
   "outputs": [
    {
     "data": {
      "text/html": [
       "<div>\n",
       "<style scoped>\n",
       "    .dataframe tbody tr th:only-of-type {\n",
       "        vertical-align: middle;\n",
       "    }\n",
       "\n",
       "    .dataframe tbody tr th {\n",
       "        vertical-align: top;\n",
       "    }\n",
       "\n",
       "    .dataframe thead th {\n",
       "        text-align: right;\n",
       "    }\n",
       "</style>\n",
       "<table border=\"1\" class=\"dataframe\">\n",
       "  <thead>\n",
       "    <tr style=\"text-align: right;\">\n",
       "      <th></th>\n",
       "      <th>DateTime</th>\n",
       "      <th>Max_temp</th>\n",
       "      <th>datetime</th>\n",
       "      <th>dummy</th>\n",
       "    </tr>\n",
       "  </thead>\n",
       "  <tbody>\n",
       "    <tr>\n",
       "      <th>0</th>\n",
       "      <td>01/01/1951</td>\n",
       "      <td>20.14</td>\n",
       "      <td>01/01/1951</td>\n",
       "      <td>3.68</td>\n",
       "    </tr>\n",
       "    <tr>\n",
       "      <th>1</th>\n",
       "      <td>01/02/1951</td>\n",
       "      <td>21.68</td>\n",
       "      <td>02/01/1951</td>\n",
       "      <td>3.60</td>\n",
       "    </tr>\n",
       "    <tr>\n",
       "      <th>2</th>\n",
       "      <td>01/03/1951</td>\n",
       "      <td>21.28</td>\n",
       "      <td>03/01/1951</td>\n",
       "      <td>3.51</td>\n",
       "    </tr>\n",
       "    <tr>\n",
       "      <th>3</th>\n",
       "      <td>01/04/1951</td>\n",
       "      <td>21.61</td>\n",
       "      <td>04/01/1951</td>\n",
       "      <td>4.09</td>\n",
       "    </tr>\n",
       "    <tr>\n",
       "      <th>4</th>\n",
       "      <td>01/05/1951</td>\n",
       "      <td>21.39</td>\n",
       "      <td>05/01/1951</td>\n",
       "      <td>5.10</td>\n",
       "    </tr>\n",
       "  </tbody>\n",
       "</table>\n",
       "</div>"
      ],
      "text/plain": [
       "     DateTime  Max_temp    datetime  dummy\n",
       "0  01/01/1951     20.14  01/01/1951   3.68\n",
       "1  01/02/1951     21.68  02/01/1951   3.60\n",
       "2  01/03/1951     21.28  03/01/1951   3.51\n",
       "3  01/04/1951     21.61  04/01/1951   4.09\n",
       "4  01/05/1951     21.39  05/01/1951   5.10"
      ]
     },
     "execution_count": 3,
     "metadata": {},
     "output_type": "execute_result"
    }
   ],
   "source": [
    "# merging the datasets\n",
    "merged = pd.concat([df1, df2], axis=1)\n",
    "merged.head()"
   ]
  },
  {
   "cell_type": "code",
   "execution_count": 4,
   "id": "d09da91c",
   "metadata": {},
   "outputs": [],
   "source": [
    "import os\n",
    "import shutil"
   ]
  },
  {
   "cell_type": "code",
   "execution_count": 5,
   "id": "b309dd84",
   "metadata": {},
   "outputs": [
    {
     "name": "stdout",
     "output_type": "stream",
     "text": [
      "C:\\Users\\LENOVO\n"
     ]
    }
   ],
   "source": [
    "# getting current directory path\n",
    "print(os.getcwd())\n"
   ]
  },
  {
   "cell_type": "code",
   "execution_count": 7,
   "id": "b68786cc",
   "metadata": {},
   "outputs": [
    {
     "data": {
      "text/plain": [
       "'C:\\\\Users\\\\LENOVO\\\\Downloads\\\\Task 4'"
      ]
     },
     "execution_count": 7,
     "metadata": {},
     "output_type": "execute_result"
    }
   ],
   "source": [
    "# changing diectory at a location\n",
    "os.chdir(r\"C:\\Users\\LENOVO\\Downloads\\Task 4\")\n",
    "new_dir=os.getcwd()\n",
    "new_dir"
   ]
  },
  {
   "cell_type": "code",
   "execution_count": 8,
   "id": "3427ed81",
   "metadata": {},
   "outputs": [
    {
     "data": {
      "text/plain": [
       "['Task 4']"
      ]
     },
     "execution_count": 8,
     "metadata": {},
     "output_type": "execute_result"
    }
   ],
   "source": [
    "# getting details of a directory\n",
    "os.listdir()"
   ]
  },
  {
   "cell_type": "code",
   "execution_count": 9,
   "id": "cc2db13e",
   "metadata": {},
   "outputs": [],
   "source": [
    "\n",
    "for files in os.listdir():\n",
    "    if files.endswith(\".jpg\"):\n",
    "        #print (files)\n",
    "        destination = r'C:\\Users\\LENOVO\\Downloads\\Task 4'\n",
    "        shutil.move(files, destination)\n"
   ]
  },
  {
   "cell_type": "code",
   "execution_count": 10,
   "id": "680c09e9",
   "metadata": {},
   "outputs": [],
   "source": [
    "for files in os.listdir():\n",
    "    if files.endswith(\".png\"):\n",
    "        #print (files)\n",
    "        destination = r'C:\\Users\\LENOVO\\Downloads\\Task 4'\n",
    "        shutil.move(files, destination)"
   ]
  },
  {
   "cell_type": "code",
   "execution_count": 12,
   "id": "3f776563",
   "metadata": {},
   "outputs": [],
   "source": [
    "for files in os.listdir():\n",
    "    if files.endswith(\".PNG\"):\n",
    "        #print (files)\n",
    "        destination = r'C:\\Users\\LENOVO\\Downloads\\Task 4'\n",
    "        shutil.move(files, destination)"
   ]
  },
  {
   "cell_type": "code",
   "execution_count": 13,
   "id": "ec6fcb52",
   "metadata": {},
   "outputs": [],
   "source": [
    "word_files = os.path.join(new_dir, r'/word_file')"
   ]
  },
  {
   "cell_type": "code",
   "execution_count": 14,
   "id": "026a4ae3",
   "metadata": {},
   "outputs": [],
   "source": [
    "destination=r'C:\\Users\\LENOVO\\Downloads\\Task 4'"
   ]
  },
  {
   "cell_type": "code",
   "execution_count": 15,
   "id": "61059445",
   "metadata": {},
   "outputs": [
    {
     "name": "stdout",
     "output_type": "stream",
     "text": [
      "Creation of the directory C:\\Users\\LENOVO\\Downloads\\Task 4 failed\n"
     ]
    }
   ],
   "source": [
    "# define the access rights\n",
    "access_rights = 0o755\n",
    "\n",
    "try:\n",
    "    os.mkdir(destination, access_rights)\n",
    "except OSError:\n",
    "    print (\"Creation of the directory %s failed\" % destination)\n",
    "else:\n",
    "    print (\"Successfully created the directory %s\" % destination)"
   ]
  },
  {
   "cell_type": "code",
   "execution_count": 16,
   "id": "c3616bab",
   "metadata": {},
   "outputs": [],
   "source": [
    "# moving word files in new dir word\n",
    "for files in os.listdir():\n",
    "    if files.endswith(\".docx\"):\n",
    "        #print (files)\n",
    "        destination = r'C:\\Users\\Lenovo\\Desktop\\YOSHOPS\\TASK 4\\word'\n",
    "        shutil.move(files, destination)\n"
   ]
  },
  {
   "cell_type": "code",
   "execution_count": 19,
   "id": "672103f4",
   "metadata": {},
   "outputs": [
    {
     "name": "stdout",
     "output_type": "stream",
     "text": [
      "Creation of the directory C:\\Users\\LENOVO\\Downloads\\Task 5(4)\\Task 5 failed\n"
     ]
    }
   ],
   "source": [
    "# creating multidirectories\n",
    "# define the name of the directory to be created\n",
    "path =r\"C:\\Users\\LENOVO\\Downloads\\Task 5(4)\\Task 5\"\n",
    "\n",
    "try:\n",
    "    os.makedirs(path)\n",
    "except OSError:\n",
    "    print (\"Creation of the directory %s failed\" % path)\n",
    "else:\n",
    "    print (\"Successfully created the directory %s\" % path)"
   ]
  },
  {
   "cell_type": "code",
   "execution_count": 20,
   "id": "b2f8efc3",
   "metadata": {},
   "outputs": [],
   "source": [
    "# moving ipynb files to python directory\n",
    "\n",
    "for files in os.listdir():\n",
    "    if files.endswith(\".ipynb\"):\n",
    "        #print (files)\n",
    "        destination = r'C:\\Users\\Lenovo\\Desktop\\YOSHOPS\\TASK 4\\word\\python_file\\python_file'\n",
    "        shutil.move(files, destination)\n"
   ]
  },
  {
   "cell_type": "code",
   "execution_count": 21,
   "id": "9ca88137",
   "metadata": {},
   "outputs": [],
   "source": [
    "for files in os.listdir():\n",
    "    if files.endswith(\".pdf\"):\n",
    "        #print (files)\n",
    "        destination = r'C:\\Users\\Lenovo\\Desktop\\YOSHOPS\\TASK 4\\word\\python_file\\pdf'\n",
    "        shutil.move(files, destination)"
   ]
  },
  {
   "cell_type": "code",
   "execution_count": 22,
   "id": "74af7619",
   "metadata": {},
   "outputs": [],
   "source": [
    "\n",
    "for files in os.listdir():\n",
    "    if files.endswith(\".pdf\"):\n",
    "        #print (files)\n",
    "        destination = r'C:\\Users\\Lenovo\\Desktop\\YOSHOPS\\TASK 4\\word\\python_file\\pdf'\n",
    "        shutil.move(files, destination)"
   ]
  },
  {
   "cell_type": "code",
   "execution_count": 23,
   "id": "52bec94d",
   "metadata": {},
   "outputs": [],
   "source": [
    "import os"
   ]
  },
  {
   "cell_type": "code",
   "execution_count": 24,
   "id": "0a4a4bec",
   "metadata": {},
   "outputs": [
    {
     "data": {
      "text/html": [
       "<div>\n",
       "<style scoped>\n",
       "    .dataframe tbody tr th:only-of-type {\n",
       "        vertical-align: middle;\n",
       "    }\n",
       "\n",
       "    .dataframe tbody tr th {\n",
       "        vertical-align: top;\n",
       "    }\n",
       "\n",
       "    .dataframe thead th {\n",
       "        text-align: right;\n",
       "    }\n",
       "</style>\n",
       "<table border=\"1\" class=\"dataframe\">\n",
       "  <thead>\n",
       "    <tr style=\"text-align: right;\">\n",
       "      <th></th>\n",
       "      <th>Movie title</th>\n",
       "      <th>Released Year</th>\n",
       "      <th>ImDb Rating</th>\n",
       "      <th>Genre</th>\n",
       "    </tr>\n",
       "  </thead>\n",
       "  <tbody>\n",
       "    <tr>\n",
       "      <th>0</th>\n",
       "      <td>Thor: Love and Thunder</td>\n",
       "      <td>-2022</td>\n",
       "      <td>6.4</td>\n",
       "      <td>adventure</td>\n",
       "    </tr>\n",
       "    <tr>\n",
       "      <th>1</th>\n",
       "      <td>Pinocchio</td>\n",
       "      <td>(I) (2022)</td>\n",
       "      <td>5.1</td>\n",
       "      <td>adventure</td>\n",
       "    </tr>\n",
       "    <tr>\n",
       "      <th>2</th>\n",
       "      <td>Brahmastra Part One: Shiva</td>\n",
       "      <td>-2022</td>\n",
       "      <td>5.6</td>\n",
       "      <td>adventure</td>\n",
       "    </tr>\n",
       "    <tr>\n",
       "      <th>3</th>\n",
       "      <td>Moonfall</td>\n",
       "      <td>-2022</td>\n",
       "      <td>5.1</td>\n",
       "      <td>adventure</td>\n",
       "    </tr>\n",
       "    <tr>\n",
       "      <th>4</th>\n",
       "      <td>Beast</td>\n",
       "      <td>(I) (2022)</td>\n",
       "      <td>5.6</td>\n",
       "      <td>adventure</td>\n",
       "    </tr>\n",
       "  </tbody>\n",
       "</table>\n",
       "</div>"
      ],
      "text/plain": [
       "                  Movie title Released Year  ImDb Rating      Genre\n",
       "0      Thor: Love and Thunder         -2022          6.4  adventure\n",
       "1                   Pinocchio    (I) (2022)          5.1  adventure\n",
       "2  Brahmastra Part One: Shiva         -2022          5.6  adventure\n",
       "3                    Moonfall         -2022          5.1  adventure\n",
       "4                       Beast    (I) (2022)          5.6  adventure"
      ]
     },
     "execution_count": 24,
     "metadata": {},
     "output_type": "execute_result"
    }
   ],
   "source": [
    "data = pd.read_csv(r\"C:\\Users\\LENOVO\\Downloads\\Task 5(4)\\Task 5\\movies_data.csv\")\n",
    "data.head()\n"
   ]
  },
  {
   "cell_type": "code",
   "execution_count": 25,
   "id": "00deea53",
   "metadata": {},
   "outputs": [
    {
     "data": {
      "text/html": [
       "<div>\n",
       "<style scoped>\n",
       "    .dataframe tbody tr th:only-of-type {\n",
       "        vertical-align: middle;\n",
       "    }\n",
       "\n",
       "    .dataframe tbody tr th {\n",
       "        vertical-align: top;\n",
       "    }\n",
       "\n",
       "    .dataframe thead th {\n",
       "        text-align: right;\n",
       "    }\n",
       "</style>\n",
       "<table border=\"1\" class=\"dataframe\">\n",
       "  <thead>\n",
       "    <tr style=\"text-align: right;\">\n",
       "      <th></th>\n",
       "      <th>Movie title</th>\n",
       "      <th>Released Year</th>\n",
       "      <th>ImDb Rating</th>\n",
       "      <th>Genre</th>\n",
       "    </tr>\n",
       "  </thead>\n",
       "  <tbody>\n",
       "    <tr>\n",
       "      <th>19</th>\n",
       "      <td>Pinocchio</td>\n",
       "      <td>-1940</td>\n",
       "      <td>7.5</td>\n",
       "      <td>adventure</td>\n",
       "    </tr>\n",
       "    <tr>\n",
       "      <th>76</th>\n",
       "      <td>The Lion King</td>\n",
       "      <td>-2019</td>\n",
       "      <td>6.8</td>\n",
       "      <td>adventure</td>\n",
       "    </tr>\n",
       "    <tr>\n",
       "      <th>98</th>\n",
       "      <td>Dune</td>\n",
       "      <td>-1984</td>\n",
       "      <td>6.3</td>\n",
       "      <td>adventure</td>\n",
       "    </tr>\n",
       "    <tr>\n",
       "      <th>137</th>\n",
       "      <td>The Mummy</td>\n",
       "      <td>-2017</td>\n",
       "      <td>5.4</td>\n",
       "      <td>adventure</td>\n",
       "    </tr>\n",
       "    <tr>\n",
       "      <th>228</th>\n",
       "      <td>Hercules</td>\n",
       "      <td>(I) (2014)</td>\n",
       "      <td>6.0</td>\n",
       "      <td>adventure</td>\n",
       "    </tr>\n",
       "  </tbody>\n",
       "</table>\n",
       "</div>"
      ],
      "text/plain": [
       "       Movie title Released Year  ImDb Rating      Genre\n",
       "19       Pinocchio         -1940          7.5  adventure\n",
       "76   The Lion King         -2019          6.8  adventure\n",
       "98            Dune         -1984          6.3  adventure\n",
       "137      The Mummy         -2017          5.4  adventure\n",
       "228       Hercules    (I) (2014)          6.0  adventure"
      ]
     },
     "execution_count": 25,
     "metadata": {},
     "output_type": "execute_result"
    }
   ],
   "source": [
    "# getting duplicates\n",
    "duplicates = data[data['Movie title'].duplicated()]\n",
    "duplicates.head()\n"
   ]
  },
  {
   "cell_type": "code",
   "execution_count": 26,
   "id": "e0f74529",
   "metadata": {},
   "outputs": [
    {
     "data": {
      "text/html": [
       "<div>\n",
       "<style scoped>\n",
       "    .dataframe tbody tr th:only-of-type {\n",
       "        vertical-align: middle;\n",
       "    }\n",
       "\n",
       "    .dataframe tbody tr th {\n",
       "        vertical-align: top;\n",
       "    }\n",
       "\n",
       "    .dataframe thead th {\n",
       "        text-align: right;\n",
       "    }\n",
       "</style>\n",
       "<table border=\"1\" class=\"dataframe\">\n",
       "  <thead>\n",
       "    <tr style=\"text-align: right;\">\n",
       "      <th></th>\n",
       "      <th>Movie title</th>\n",
       "      <th>Released Year</th>\n",
       "      <th>ImDb Rating</th>\n",
       "      <th>Genre</th>\n",
       "    </tr>\n",
       "  </thead>\n",
       "  <tbody>\n",
       "    <tr>\n",
       "      <th>0</th>\n",
       "      <td>'Gator Bait</td>\n",
       "      <td>-1973</td>\n",
       "      <td>5.4</td>\n",
       "      <td>Action</td>\n",
       "    </tr>\n",
       "    <tr>\n",
       "      <th>1</th>\n",
       "      <td>*batteries not included</td>\n",
       "      <td>-1987</td>\n",
       "      <td>6.6</td>\n",
       "      <td>sci_fi</td>\n",
       "    </tr>\n",
       "    <tr>\n",
       "      <th>2</th>\n",
       "      <td>009 Re: Cyborg</td>\n",
       "      <td>-2012</td>\n",
       "      <td>5.8</td>\n",
       "      <td>Action</td>\n",
       "    </tr>\n",
       "    <tr>\n",
       "      <th>3</th>\n",
       "      <td>009-1: The End of the Beginning</td>\n",
       "      <td>-2013</td>\n",
       "      <td>4.5</td>\n",
       "      <td>Action</td>\n",
       "    </tr>\n",
       "    <tr>\n",
       "      <th>4</th>\n",
       "      <td>1</td>\n",
       "      <td>-2009</td>\n",
       "      <td>6.0</td>\n",
       "      <td>sci_fi</td>\n",
       "    </tr>\n",
       "    <tr>\n",
       "      <th>5</th>\n",
       "      <td>10 Endrathukulla</td>\n",
       "      <td>-2015</td>\n",
       "      <td>5.2</td>\n",
       "      <td>Action</td>\n",
       "    </tr>\n",
       "    <tr>\n",
       "      <th>6</th>\n",
       "      <td>10,000 BC</td>\n",
       "      <td>-2008</td>\n",
       "      <td>5.1</td>\n",
       "      <td>Action</td>\n",
       "    </tr>\n",
       "    <tr>\n",
       "      <th>7</th>\n",
       "      <td>10.0 Earthquake</td>\n",
       "      <td>-2014</td>\n",
       "      <td>3.5</td>\n",
       "      <td>sci_fi</td>\n",
       "    </tr>\n",
       "    <tr>\n",
       "      <th>8</th>\n",
       "      <td>10.0 Earthquake</td>\n",
       "      <td>-2014</td>\n",
       "      <td>3.5</td>\n",
       "      <td>Action</td>\n",
       "    </tr>\n",
       "    <tr>\n",
       "      <th>9</th>\n",
       "      <td>100% Wolf</td>\n",
       "      <td>-2020</td>\n",
       "      <td>5.6</td>\n",
       "      <td>comedy</td>\n",
       "    </tr>\n",
       "    <tr>\n",
       "      <th>10</th>\n",
       "      <td>101 Dalmatians</td>\n",
       "      <td>-1996</td>\n",
       "      <td>5.7</td>\n",
       "      <td>comedy</td>\n",
       "    </tr>\n",
       "    <tr>\n",
       "      <th>11</th>\n",
       "      <td>102 Dalmatians</td>\n",
       "      <td>-2000</td>\n",
       "      <td>4.8</td>\n",
       "      <td>comedy</td>\n",
       "    </tr>\n",
       "    <tr>\n",
       "      <th>12</th>\n",
       "      <td>12 + 1</td>\n",
       "      <td>-1969</td>\n",
       "      <td>5.8</td>\n",
       "      <td>comedy</td>\n",
       "    </tr>\n",
       "    <tr>\n",
       "      <th>13</th>\n",
       "      <td>12 Rounds 2: Reloaded</td>\n",
       "      <td>-2013</td>\n",
       "      <td>5.3</td>\n",
       "      <td>Action</td>\n",
       "    </tr>\n",
       "    <tr>\n",
       "      <th>14</th>\n",
       "      <td>13 Assassins</td>\n",
       "      <td>-2010</td>\n",
       "      <td>7.5</td>\n",
       "      <td>Action</td>\n",
       "    </tr>\n",
       "    <tr>\n",
       "      <th>15</th>\n",
       "      <td>13 Assassins</td>\n",
       "      <td>-1963</td>\n",
       "      <td>7.4</td>\n",
       "      <td>adventure</td>\n",
       "    </tr>\n",
       "    <tr>\n",
       "      <th>16</th>\n",
       "      <td>13 Assassins</td>\n",
       "      <td>-1963</td>\n",
       "      <td>7.4</td>\n",
       "      <td>Action</td>\n",
       "    </tr>\n",
       "    <tr>\n",
       "      <th>17</th>\n",
       "      <td>13 Frightened Girls</td>\n",
       "      <td>-1963</td>\n",
       "      <td>5.2</td>\n",
       "      <td>comedy</td>\n",
       "    </tr>\n",
       "    <tr>\n",
       "      <th>18</th>\n",
       "      <td>13 Rue Madeleine</td>\n",
       "      <td>-1946</td>\n",
       "      <td>6.9</td>\n",
       "      <td>Action</td>\n",
       "    </tr>\n",
       "    <tr>\n",
       "      <th>19</th>\n",
       "      <td>1941</td>\n",
       "      <td>-1979</td>\n",
       "      <td>5.8</td>\n",
       "      <td>Action</td>\n",
       "    </tr>\n",
       "  </tbody>\n",
       "</table>\n",
       "</div>"
      ],
      "text/plain": [
       "                        Movie title Released Year  ImDb Rating      Genre\n",
       "0                       'Gator Bait         -1973          5.4     Action\n",
       "1           *batteries not included         -1987          6.6     sci_fi\n",
       "2                    009 Re: Cyborg         -2012          5.8     Action\n",
       "3   009-1: The End of the Beginning         -2013          4.5     Action\n",
       "4                                 1         -2009          6.0     sci_fi\n",
       "5                  10 Endrathukulla         -2015          5.2     Action\n",
       "6                         10,000 BC         -2008          5.1     Action\n",
       "7                   10.0 Earthquake         -2014          3.5     sci_fi\n",
       "8                   10.0 Earthquake         -2014          3.5     Action\n",
       "9                         100% Wolf         -2020          5.6     comedy\n",
       "10                   101 Dalmatians         -1996          5.7     comedy\n",
       "11                   102 Dalmatians         -2000          4.8     comedy\n",
       "12                           12 + 1         -1969          5.8     comedy\n",
       "13            12 Rounds 2: Reloaded         -2013          5.3     Action\n",
       "14                     13 Assassins         -2010          7.5     Action\n",
       "15                     13 Assassins         -1963          7.4  adventure\n",
       "16                     13 Assassins         -1963          7.4     Action\n",
       "17              13 Frightened Girls         -1963          5.2     comedy\n",
       "18                 13 Rue Madeleine         -1946          6.9     Action\n",
       "19                             1941         -1979          5.8     Action"
      ]
     },
     "execution_count": 26,
     "metadata": {},
     "output_type": "execute_result"
    }
   ],
   "source": [
    "# cheacking duplicates\n",
    "duplicates.sort_values('Movie title', ignore_index=True).head(20)"
   ]
  },
  {
   "cell_type": "code",
   "execution_count": 27,
   "id": "c9870b41",
   "metadata": {},
   "outputs": [],
   "source": [
    "# defining a function to find files by keywords [filenames]\n",
    "def file_finder(filename, search_path):\n",
    "    result = []\n",
    "    for root, dir, files in os.walk(search_path):\n",
    "        if filename in files:\n",
    "            result.append(os.path.join(root, filename))\n",
    "    return result\n"
   ]
  },
  {
   "cell_type": "code",
   "execution_count": 28,
   "id": "4fd69bd4",
   "metadata": {},
   "outputs": [],
   "source": [
    "root_dir=r\"C:\\Users\\LENOVO\\Downloads\\Task 5(4)\\Task 5\""
   ]
  },
  {
   "cell_type": "code",
   "execution_count": 29,
   "id": "7fbd89b4",
   "metadata": {},
   "outputs": [],
   "source": [
    "for name in os.listdir(root_dir):\n",
    "    if os.path.isdir(os.path.join(root_dir ,name)):\n",
    "        for f in os.listdir(os.path.join(root_dir ,name)):\n",
    "            if os.path.isfile(os.path.join(root_dir ,name, f)) and f.endswith('.jpg'):\n",
    "                print(f)\n",
    "                print(os.path.join(root_dir ,name, f))"
   ]
  },
  {
   "cell_type": "code",
   "execution_count": null,
   "id": "ca2a156e",
   "metadata": {},
   "outputs": [],
   "source": []
  }
 ],
 "metadata": {
  "kernelspec": {
   "display_name": "Python 3 (ipykernel)",
   "language": "python",
   "name": "python3"
  },
  "language_info": {
   "codemirror_mode": {
    "name": "ipython",
    "version": 3
   },
   "file_extension": ".py",
   "mimetype": "text/x-python",
   "name": "python",
   "nbconvert_exporter": "python",
   "pygments_lexer": "ipython3",
   "version": "3.8.2"
  }
 },
 "nbformat": 4,
 "nbformat_minor": 5
}
