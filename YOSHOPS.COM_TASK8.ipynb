{
 "cells": [
  {
   "cell_type": "code",
   "execution_count": 1,
   "id": "a1696037",
   "metadata": {},
   "outputs": [],
   "source": [
    "import pandas as pd\n",
    "import matplotlib.pyplot as plt\n",
    "import numpy as np"
   ]
  },
  {
   "cell_type": "code",
   "execution_count": 2,
   "id": "1737e5c9",
   "metadata": {},
   "outputs": [],
   "source": [
    "# details for generating a bill\n",
    "name_person = 'Name'\n",
    "phone_no = 'Contact Number'\n",
    "food_item_no = 'Food Item No'\n",
    "b_name = 'Biryani Name'\n",
    "Quantity_biryani = 'Quantity'"
   ]
  },
  {
   "cell_type": "code",
   "execution_count": 3,
   "id": "8d196983",
   "metadata": {},
   "outputs": [],
   "source": [
    "# defining a function for generating a bill\n",
    "def biryani_billing_system(name,contact,food_id,biryani_name,qty,cost):\n",
    "    print('-' * 60)\n",
    "    print('\\t\\tYOSHOPS AMBUR BIRYANI\\t\\t')\n",
    "    print('-' * 60)\n",
    "    print(f\"{name_person.upper()}\\t\\t\\t\\t\\t{name}\")\n",
    "    print(' ' * 60)\n",
    "    print(f\"{phone_no.upper()}\\t\\t\\t\\t{contact}\")\n",
    "    print(' ' * 60)\n",
    "    print(f\"{food_item_no.upper()}\\t\\t\\t\\t{food_id}\")\n",
    "    print(' ' * 60)\n",
    "    print(f\"{b_name.upper()}\\t\\t\\t\\t{biryani_name}\")\n",
    "    print(' ' * 60)\n",
    "    print(f\"{Quantity_biryani.upper()}\\t\\t\\t\\t{qty}\")\n",
    "    print(' ' * 60)\n",
    "    print('-' * 60)\n",
    "    print(f'TOTAL\\t\\t\\t\\t\\t{cost}')\n",
    "    print('\\n')\n"
   ]
  },
  {
   "cell_type": "code",
   "execution_count": 4,
   "id": "95958fcb",
   "metadata": {},
   "outputs": [
    {
     "name": "stdout",
     "output_type": "stream",
     "text": [
      "Enter your Name : AAKANKSHA\n",
      "Enter Contact No : 8303433563\n",
      "Enter Food Item No : 8\n",
      "------------------------------------------------------------\n",
      "\t\tYOSHOPS AMBUR BIRYANI\t\t\n",
      "------------------------------------------------------------\n",
      "NAME\t\t\t\t\tAAKANKSHA\n",
      "                                                            \n",
      "CONTACT NUMBER\t\t\t\t8303433563\n",
      "                                                            \n",
      "FOOD ITEM NO\t\t\t\t8\n",
      "                                                            \n",
      "BIRYANI NAME\t\t\t\tEgg Biryani\n",
      "                                                            \n",
      "QUANTITY\t\t\t\t500 g\n",
      "                                                            \n",
      "------------------------------------------------------------\n",
      "TOTAL\t\t\t\t\t80.0\n",
      "\n",
      "\n"
     ]
    }
   ],
   "source": [
    "# getting input\n",
    "name=input('Enter your Name : ')\n",
    "contact=int(input('Enter Contact No : '))\n",
    "food_id=int(input('Enter Food Item No : '))\n",
    "if food_id == 1:\n",
    "    biryani_name = 'Chicken Biryani'\n",
    "    qty = '1 kg'\n",
    "    cost = 170.00\n",
    "    mybill = biryani_billing_system(name,contact,food_id,biryani_name,qty,cost)\n",
    "elif food_id == 2:\n",
    "    biryani_name = 'Chicken Biryani'\n",
    "    qty = '500 g'\n",
    "    cost = 120.00\n",
    "    mybill = biryani_billing_system(name,contact,food_id,biryani_name,qty,cost)\n",
    "elif food_id == 3:\n",
    "    biryani_name = 'Chicken Biryani'\n",
    "    qty = '250 g'\n",
    "    cost = 80.00\n",
    "    mybill = biryani_billing_system(name,contact,food_id,biryani_name,qty,cost)\n",
    "elif food_id == 4:\n",
    "    biryani_name = 'Kushka'\n",
    "    qty = '1 Kg'\n",
    "    cost = 110.00\n",
    "    mybill = biryani_billing_system(name,contact,food_id,biryani_name,qty,cost)\n",
    "elif food_id == 5:\n",
    "    biryani_name = 'Kushka'\n",
    "    qty = '500 g'\n",
    "    cost = 70.00\n",
    "    mybill = biryani_billing_system(name,contact,food_id,biryani_name,qty,cost)\n",
    "elif food_id == 6:\n",
    "    biryani_name = 'Kushka'\n",
    "    qty = '250 g'\n",
    "    cost = 50.00\n",
    "    mybill = biryani_billing_system(name,contact,food_id,biryani_name,qty,cost)\n",
    "elif food_id == 7:\n",
    "    biryani_name = 'Egg Biryani'\n",
    "    qty = '1 Kg'\n",
    "    cost = 120.00\n",
    "    mybill = biryani_billing_system(name,contact,food_id,biryani_name,qty,cost)\n",
    "elif food_id == 8:\n",
    "    biryani_name = 'Egg Biryani'\n",
    "    qty = '500 g'\n",
    "    cost = 80.00\n",
    "    mybill = biryani_billing_system(name,contact,food_id,biryani_name,qty,cost)\n",
    "elif food_id == 9:\n",
    "    biryani_name = 'Mutton Biryani'\n",
    "    qty = '1 kg'\n",
    "    cost = 260.00\n",
    "    mybill = biryani_billing_system(name,contact,food_id,biryani_name,qty,cost)\n",
    "elif food_id == 10:\n",
    "    biryani_name = 'Mutton Biryani'\n",
    "    qty = '500 kg'\n",
    "    cost = 190.00\n",
    "    mybill = biryani_billing_system(name,contact,food_id,biryani_name,qty,cost)\n",
    "else:\n",
    "    print('Invalid Item Please Enter Correct Food ID')"
   ]
  },
  {
   "cell_type": "code",
   "execution_count": null,
   "id": "be3c17fa",
   "metadata": {},
   "outputs": [],
   "source": []
  }
 ],
 "metadata": {
  "kernelspec": {
   "display_name": "Python 3 (ipykernel)",
   "language": "python",
   "name": "python3"
  },
  "language_info": {
   "codemirror_mode": {
    "name": "ipython",
    "version": 3
   },
   "file_extension": ".py",
   "mimetype": "text/x-python",
   "name": "python",
   "nbconvert_exporter": "python",
   "pygments_lexer": "ipython3",
   "version": "3.8.2"
  }
 },
 "nbformat": 4,
 "nbformat_minor": 5
}
